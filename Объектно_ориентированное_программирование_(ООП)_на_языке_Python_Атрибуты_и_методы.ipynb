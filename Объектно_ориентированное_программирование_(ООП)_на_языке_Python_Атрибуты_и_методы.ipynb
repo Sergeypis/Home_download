{
  "nbformat": 4,
  "nbformat_minor": 0,
  "metadata": {
    "colab": {
      "provenance": [],
      "collapsed_sections": [
        "VqGxsdRRpezo",
        "csTKF8XuR1dW",
        "2SfQIQZrRkYA"
      ],
      "include_colab_link": true
    },
    "kernelspec": {
      "name": "python3",
      "display_name": "Python 3"
    }
  },
  "cells": [
    {
      "cell_type": "markdown",
      "metadata": {
        "id": "view-in-github",
        "colab_type": "text"
      },
      "source": [
        "<a href=\"https://colab.research.google.com/github/Sergeypis/Home_download/blob/master/%D0%9E%D0%B1%D1%8A%D0%B5%D0%BA%D1%82%D0%BD%D0%BE_%D0%BE%D1%80%D0%B8%D0%B5%D0%BD%D1%82%D0%B8%D1%80%D0%BE%D0%B2%D0%B0%D0%BD%D0%BD%D0%BE%D0%B5_%D0%BF%D1%80%D0%BE%D0%B3%D1%80%D0%B0%D0%BC%D0%BC%D0%B8%D1%80%D0%BE%D0%B2%D0%B0%D0%BD%D0%B8%D0%B5_(%D0%9E%D0%9E%D0%9F)_%D0%BD%D0%B0_%D1%8F%D0%B7%D1%8B%D0%BA%D0%B5_Python_%D0%90%D1%82%D1%80%D0%B8%D0%B1%D1%83%D1%82%D1%8B_%D0%B8_%D0%BC%D0%B5%D1%82%D0%BE%D0%B4%D1%8B.ipynb\" target=\"_parent\"><img src=\"https://colab.research.google.com/assets/colab-badge.svg\" alt=\"Open In Colab\"/></a>"
      ]
    },
    {
      "cell_type": "markdown",
      "metadata": {
        "id": "Rgq0ljPKDazM"
      },
      "source": [
        "# Объектно-ориентированное программирование (ООП) на языке Python. Атрибуты и методы"
      ]
    },
    {
      "cell_type": "markdown",
      "metadata": {
        "id": "aEDZTCNVD956"
      },
      "source": [
        "**Объектно-ориентированное программирование** - это  совокупность идей и  \n",
        "понятий программирования, основанная на совместном описании данных и операций,  \n",
        "оперирующих с этими данными."
      ]
    },
    {
      "cell_type": "markdown",
      "metadata": {
        "id": "jN4KJhPpEzgl"
      },
      "source": [
        "**Класс (англ. class)** - это тип данных с описанием атрибутов, свойств и методов.  \n",
        "Атрибуты и методы в свою очередь делятся на:\n",
        "- Атрибуты и методы экземпляра\n",
        "- Атрибуты и методы класса\n",
        "- Статические методы - методы, которые не зависят от внутреннего представления  \n",
        "класса. По факту обычные функции в составе класса.\n"
      ]
    },
    {
      "cell_type": "markdown",
      "metadata": {
        "id": "-TpyzoK7FVrm"
      },
      "source": [
        "**Экземпляр класса или объект** - это представление в памяти  \n",
        "конкретного класса с его атрибутами и методами, сконфигурированного  \n",
        "по описанию, заложенному в классе."
      ]
    },
    {
      "cell_type": "markdown",
      "metadata": {
        "id": "xkoZvmg6FgT8"
      },
      "source": [
        "## Атрибуты и методы экземпляра"
      ]
    },
    {
      "cell_type": "markdown",
      "metadata": {
        "id": "w9o0hdtvTUz0"
      },
      "source": [
        "Доступ к атрибутам и методам осуществляется через:\n",
        "- переменную `self`\n",
        "- сам экземпляр\n",
        "  \n",
        "Переменная `self` является ссылкой на экземпляр данного класса.  \n",
        "`self` - это просто соглашение об именовании переменных в Python"
      ]
    },
    {
      "cell_type": "markdown",
      "metadata": {
        "id": "jkKWZRRxK4VQ"
      },
      "source": [
        "### Атрибуты экземпляра"
      ]
    },
    {
      "cell_type": "markdown",
      "metadata": {
        "id": "DDjfO5HARSp_"
      },
      "source": [
        "<img src=\"https://drive.google.com/uc?id=1ZVA1QF8W-smX4ADWrgcZIZazTE5LWoNX\"/>\n",
        "\n",
        "\n",
        "Атрибуты экземпляра класса делятся на:\n",
        "- системные, их несколько больше, мы разберем 2\n",
        "    - `__class__` - ссылка на класс, которому принадлежит экземпляр\n",
        "    - `__dict__` - хранит все пользовательские атрибуты\n",
        "- пользовательские\n",
        "\n",
        "С помощью функции `dir()` можно получить список всех атрибутов указанного  \n",
        "объекта в алфавитном порядке.\n",
        "\n",
        "\n",
        "```python\n",
        "dir(some_obj)  # список всех атрибутов\n",
        "```\n",
        "\n",
        "\n"
      ]
    },
    {
      "cell_type": "code",
      "metadata": {
        "id": "rJwgQ8qh0THE",
        "colab": {
          "base_uri": "https://localhost:8080/"
        },
        "outputId": "2916ca59-4d26-4714-e061-54650346fc49"
      },
      "source": [
        "class SomeClass:\n",
        "    ...\n",
        "\n",
        "print(dir(SomeClass()))"
      ],
      "execution_count": null,
      "outputs": [
        {
          "output_type": "stream",
          "name": "stdout",
          "text": [
            "['__class__', '__delattr__', '__dict__', '__dir__', '__doc__', '__eq__', '__format__', '__ge__', '__getattribute__', '__gt__', '__hash__', '__init__', '__init_subclass__', '__le__', '__lt__', '__module__', '__ne__', '__new__', '__reduce__', '__reduce_ex__', '__repr__', '__setattr__', '__sizeof__', '__str__', '__subclasshook__', '__weakref__']\n"
          ]
        }
      ]
    },
    {
      "cell_type": "markdown",
      "metadata": {
        "id": "VqGxsdRRpezo"
      },
      "source": [
        "#### Пользовательские атрибуты"
      ]
    },
    {
      "cell_type": "markdown",
      "metadata": {
        "id": "bCcL7Z8kUV-X"
      },
      "source": [
        "Метод `__init__` подготавливает объект класса к использованию.  \n",
        "Определение  пользовательских ***атрибутов экземпляра класса*** должно  \n",
        "находиться в этом методе.  \n",
        "\n",
        "Если атрибут отпределяется во внешнем методе, то\n",
        "\n",
        "1. ставят первональное значение `None` в `__init__`\n",
        "2. эти методы ***обязательно*** вызывают в `__init__`.  \n",
        "\n",
        "\n",
        "```python\n",
        "class Book:\n",
        "    def __init__(self):\n",
        "        self.pages = None\n",
        "        self.init_pages()  # обязательно вызываем метод\n",
        "\n",
        "    def init_pages(self):\n",
        "        self.pages = 500\n",
        "```\n",
        "\n"
      ]
    },
    {
      "cell_type": "markdown",
      "metadata": {
        "id": "ZTWKQDUNpkYA"
      },
      "source": [
        "#### Системный атрибут `__dict__`"
      ]
    },
    {
      "cell_type": "markdown",
      "metadata": {
        "id": "wvl6FE1eGaa2"
      },
      "source": [
        "Все пользовательские атрибуты хранятся в атрибуте `__dict__`.\n",
        "\n",
        "`__dict__` согласно этой классификации, относится к “системным”  \n",
        "(определённым python) атрибутам.  \n",
        "\n",
        "Его задача — хранить **пользовательские атрибуты**.  \n",
        "Он представляет собой словарь, в котором:\n",
        "- ключом является имя атрибута,\n",
        "- значением - значение атрибута."
      ]
    },
    {
      "cell_type": "code",
      "metadata": {
        "id": "eSSfi70rnNmo"
      },
      "source": [
        "class Book:\n",
        "    def __init__(self, name: str):\n",
        "        self.name = name\n",
        "\n",
        "\n",
        "book = Book(\"Букварь\")\n",
        "print(book.__dict__)  # {'name': 'Букварь'}"
      ],
      "execution_count": null,
      "outputs": []
    },
    {
      "cell_type": "code",
      "metadata": {
        "id": "-NbtKARknUyZ"
      },
      "source": [
        "book_1 = Book(\"Букварь\")\n",
        "book_2 = Book(\"Азбука\")\n",
        "\n",
        "book_2.notes = \"Заметки на полях\"\n",
        "\n",
        "print(book_1.__dict__)  # {'name': 'Букварь'}\n",
        "print(book_2.__dict__)  # {'name': 'Азбука', 'notes': 'Заметки на полях'}"
      ],
      "execution_count": null,
      "outputs": []
    },
    {
      "cell_type": "markdown",
      "metadata": {
        "id": "p3fyvdWgn3Ai"
      },
      "source": [
        "Добавление атрибутов таким способом не очень хорошо.  \n",
        "\n",
        "Но если вы понимаете зачем вам это нужно и  \n",
        "сколько будет \"жить\" данный атрибут, то пожалуйста."
      ]
    },
    {
      "cell_type": "markdown",
      "metadata": {
        "id": "-V4rSJtHtT5a"
      },
      "source": [
        "#### Системный атрибут `__class__`"
      ]
    },
    {
      "cell_type": "markdown",
      "metadata": {
        "id": "eC8phzcwu-OA"
      },
      "source": [
        "Системный атрибут `__class__` содержит в себе ссылку на класс,  \n",
        "которому принадлежит экземпляр.  \n",
        "\n",
        "Содержимое аналогично тому, что возвращает функция `type()`"
      ]
    },
    {
      "cell_type": "code",
      "metadata": {
        "id": "7TJIctabu9vg"
      },
      "source": [
        "class Book:\n",
        "    ...\n",
        "\n",
        "book = Book()\n",
        "print(type(book) is book.__class__)"
      ],
      "execution_count": null,
      "outputs": []
    },
    {
      "cell_type": "markdown",
      "metadata": {
        "id": "o42ovnGeM2in"
      },
      "source": [
        "### Методы экземпляра класса"
      ]
    },
    {
      "cell_type": "markdown",
      "metadata": {
        "id": "hAHBZb1pYr_Y"
      },
      "source": [
        "Имена атрибутов могут указывать на функции.  \n",
        "Такие функции называются **методами**."
      ]
    },
    {
      "cell_type": "markdown",
      "metadata": {
        "id": "cUOHKgWqOEiW"
      },
      "source": [
        "Метод экземпляра класса определяется с помощью переменной с названием `self`.  \n",
        "Использование `self` позволяет **разработчику** определить,  \n",
        "что данный метод является методом экземпляра класса."
      ]
    },
    {
      "cell_type": "markdown",
      "metadata": {
        "id": "o5GDPnsdT35L"
      },
      "source": [
        "Вызов ***метода экземпляра класса*** необходимо выполнять через  \n",
        "переменную `self` либо сам экземпляр класса."
      ]
    },
    {
      "cell_type": "markdown",
      "metadata": {
        "id": "hr1RpABnRABy"
      },
      "source": [
        "```python\n",
        "class Book:\n",
        "    def __init__(self):\n",
        "        self.pages = 500\n",
        "        self.last_read_page = 0  # последняя прочитанная страница\n",
        "\n",
        "    def increment_last_read_page(self, read_pages: int):\n",
        "        \"\"\"\n",
        "        Метод увеличивает последнюю прочитанную страницу.\n",
        "\n",
        "        :param read_pages: Количество прочитанных страниц\n",
        "        \"\"\"\n",
        "        self.last_read_page += read_pages\n",
        "\n",
        "\n",
        "book = Book()\n",
        "book.increment_last_read_page(200)\n",
        "```"
      ]
    },
    {
      "cell_type": "markdown",
      "metadata": {
        "id": "j80Y-ufdZGZO"
      },
      "source": [
        "### Магические методы `__repr__` и `__str__`"
      ]
    },
    {
      "cell_type": "markdown",
      "metadata": {
        "id": "1RNJ8pUHZSFJ"
      },
      "source": [
        "Что такое магические методы?\n",
        "\n",
        "Они всё в объектно-ориентированном Python.  \n",
        "Это специальные методы, с помощью которых вы можете добавить в ваши классы «магию».  \n",
        "Они всегда обрамлены двумя нижними подчеркиваниями (например, `__init__`).\n",
        "\n",
        "Разберём ещё два магических метода для строковых представлений ваших объектов:\n",
        "- `__repr__`\n",
        "- `__str__`\n",
        "\n",
        "Вызываются они в следующих случаях:\n",
        "- `repr()` -> `__repr__`\n",
        "- `str()` -> `__str__`\n",
        "\n",
        "Оба этих метода играют важную роль в создании  \n",
        "правильных строковых представлений для пользовательского класса."
      ]
    },
    {
      "cell_type": "markdown",
      "metadata": {
        "id": "s0xHbXdQquBW"
      },
      "source": [
        "#### Магический метод  `__str__`\n",
        "\n"
      ]
    },
    {
      "cell_type": "markdown",
      "metadata": {
        "id": "5hU2Ufg_A9Eu"
      },
      "source": [
        " ```python\n",
        "# определение метода __str__\n",
        "class SomeClass:\n",
        "    def __str__(self) -> str:\n",
        "        ...\n",
        "```\n",
        "Определяет поведение функции `str()`, вызванной для экземпляра вашего класса.  \n",
        "Например, `print()`, f-string ...\n",
        "\n",
        "Результат метода `__str__` предназначен для чтения людьми.\n"
      ]
    },
    {
      "cell_type": "code",
      "source": [
        "class Book:\n",
        "    def __init__(self, name: str):\n",
        "        self.name = name\n",
        "\n",
        "    # TODO реализовать магический метод __str__\n",
        "\n",
        "book = Book(\"Букварь\")\n",
        "print(book)\n",
        "print(f\"{book}\")\n",
        "print(str(book))"
      ],
      "metadata": {
        "id": "q5cm4wvcg34Q"
      },
      "execution_count": null,
      "outputs": []
    },
    {
      "cell_type": "markdown",
      "source": [
        "```python\n",
        "class Book:\n",
        "    def __init__(self, name: str):\n",
        "        self.name = name\n",
        "\n",
        "    def __str__(self) -> str:\n",
        "        return f'Книга \"{self.name}\"'\n",
        "```"
      ],
      "metadata": {
        "id": "mf343OpFH4ru"
      }
    },
    {
      "cell_type": "markdown",
      "metadata": {
        "id": "cGUdhhx2pobF"
      },
      "source": [
        "#### Магический метод  `__repr__`"
      ]
    },
    {
      "cell_type": "markdown",
      "metadata": {
        "id": "5-QiVOjdAtkh"
      },
      "source": [
        "```python\n",
        "class SomeClass:\n",
        "    def __repr__(self) -> str:\n",
        "        ...\n",
        "```\n",
        "Магический метод `__repr__` определяет поведение функции `repr()`,  \n",
        "вызыванной для экземпляра вашего класса.\n",
        "\n",
        "Метод должен возвращать строку, показывающую,  \n",
        "как может быть инициализирован экземпляр.\n"
      ]
    },
    {
      "cell_type": "code",
      "source": [
        "class Book:\n",
        "    def __init__(self, name: str):\n",
        "        self.name = name\n",
        "\n",
        "    # TODO реализовать магический метод __repr__\n",
        "\n",
        "\n",
        "book = Book(\"Букварь\")\n",
        "print(repr(book))\n",
        "print(f\"{book!r}\")"
      ],
      "metadata": {
        "id": "_Y4KrkU0IYvh"
      },
      "execution_count": null,
      "outputs": []
    },
    {
      "cell_type": "markdown",
      "source": [
        "```python\n",
        "class Book:\n",
        "    def __init__(self, name: str):\n",
        "        self.name = name\n",
        "    \n",
        "    def __repr__(self) -> str:\n",
        "        return f'Book(name={self.name!r})'  # Например, для строк важно указать !r\n",
        "```"
      ],
      "metadata": {
        "id": "M8tOKYqMIhzS"
      }
    },
    {
      "cell_type": "code",
      "source": [
        "names = [\"Букварь\", \"Азбука\"]\n",
        "list_books = [Book(name) for name in names]  # внутри списка вызывается __repr__\n",
        "print(list_books)"
      ],
      "metadata": {
        "id": "EmSNUVYHjDCP"
      },
      "execution_count": null,
      "outputs": []
    },
    {
      "cell_type": "code",
      "source": [
        "class Book:\n",
        "    def __init__(self, name: str):\n",
        "        self.name = name\n",
        "\n",
        "    def __repr__(self) -> str:\n",
        "        return f'Book(name={self.name!r})'  # Например, для строк важно указать !r\n",
        "\n",
        "book = Book(\"Букварь\")\n",
        "print(repr(book))\n",
        "print(f\"{book}\")  # `__repr__` вызывается если нет `__str__`"
      ],
      "metadata": {
        "id": "Ycwk1fGfLdfg"
      },
      "execution_count": null,
      "outputs": []
    },
    {
      "cell_type": "code",
      "source": [
        "class Book:\n",
        "    def __init__(self, name: str):\n",
        "        self.name = name\n",
        "\n",
        "    def __str__(self) -> str:\n",
        "        return f'Книга \"{self.name}\"'\n",
        "\n",
        "    def __repr__(self) -> str:\n",
        "        return f'Book(name={self.name!r})'  # Например, для строк важно указать !r\n",
        "\n",
        "\n",
        "book = Book(\"Букварь\")\n",
        "print(f\"{book}\")\n",
        "print(repr(book))"
      ],
      "metadata": {
        "id": "dlKP4D_eiWN1"
      },
      "execution_count": null,
      "outputs": []
    },
    {
      "cell_type": "markdown",
      "metadata": {
        "id": "4FBFFudvFME7"
      },
      "source": [
        "Главное отличие `__str__` от `__repr__` в целевой аудитории.\n",
        "\n",
        "`__repr__` больше предназначен для машинно-ориентированного вывода  \n",
        "(более того, это часто должен быть валидный код на Питоне),  \n",
        "а `__str__` предназначен для чтения людьми.\n",
        "\n",
        "Если есть `__repr__`, то работает `__str__`.\n",
        "  \n",
        "Имея `__str__`, `__repr__` работать не будет."
      ]
    },
    {
      "cell_type": "markdown",
      "metadata": {
        "id": "eDWK5PLAAQWr"
      },
      "source": [
        "### Выводы"
      ]
    },
    {
      "cell_type": "markdown",
      "metadata": {
        "id": "abNxCF23ATO4"
      },
      "source": [
        "1. Атрибуты экземпляра класса - это такие переменные,  \n",
        "которые характеризуют каждый конкретный экземпляр, которому принадлежат.\n",
        "1. Атрибут `__dict__` хранит в себе все пользовательские атрибуты.\n",
        "1. Атрибут `__class__` хранит в себе ссылку на класс, которому принадлежит экземпляр.\n",
        "1. Использование `self` позволяет разработчику определить,  \n",
        "что данный метод является методом экземпляра класса.\n",
        "1. `__repr__` больше предназначен для машинно-ориентированного вывода  \n",
        "(более того, это часто должен быть валидный код на Питоне),  \n",
        "а `__str__` предназначен для чтения людьми.\n",
        "1. Достаточно определить только метод `__repr__`, и его результат будет  \n",
        "использоваться при работает `__str__`, если метод `__str__` не определен в явном виде."
      ]
    },
    {
      "cell_type": "markdown",
      "metadata": {
        "id": "zUU-01_4BleR"
      },
      "source": [
        "## Атрибуты и методы класса"
      ]
    },
    {
      "cell_type": "markdown",
      "metadata": {
        "id": "h68Mn0iZ4kr1"
      },
      "source": [
        "### Атрибуты класса"
      ]
    },
    {
      "cell_type": "markdown",
      "metadata": {
        "id": "l8cSpE9S4qiv"
      },
      "source": [
        "Атрибут класса - это общая переменная для всех экземпляров данного класса.\n",
        "\n",
        "<img src=\"https://drive.google.com/uc?id=1FFXVNBuo__uVJ9BvQPSl9TtI8EzH6BST\"/>\n",
        "\n",
        "Атрибуты класса делятся на:\n",
        "- системные\n",
        "    - `__name__` - Имя класса\n",
        "    - `__module__` - Название модуля, в котором определён класс\n",
        "    - `__doc__` - Содержит строку с описанием класса\n",
        "    - `__dict__` - хранит все пользовательские атрибуты класса\n",
        "- пользовательские"
      ]
    },
    {
      "cell_type": "code",
      "metadata": {
        "id": "syig3UxUCAyr"
      },
      "source": [
        "class Book:\n",
        "    \"\"\"Класс, описывающий книгу\"\"\"\n",
        "    ...\n",
        "\n",
        "print(Book.__name__)  # Book\n",
        "print(Book.__module__)  # __main__\n",
        "print(Book)  # <class '__main__.Book'>\n",
        "\n",
        "print(Book.__doc__)  # Класс, описывающий книгу\n"
      ],
      "execution_count": null,
      "outputs": []
    },
    {
      "cell_type": "markdown",
      "metadata": {
        "id": "fcgl1FWnPOwN"
      },
      "source": [
        "Вспомним метод `__repr__`.  \n",
        "Зачастую он должен возвращать валидную строку,  \n",
        "по которой может быть воссоздан объект.  \n",
        "\n",
        "И если вам лень писать название класса,  \n",
        "и вы не хотите \"хардкодить\" название класса, то"
      ]
    },
    {
      "cell_type": "code",
      "metadata": {
        "id": "6NQsOxp_POHO"
      },
      "source": [
        "class Book:\n",
        "    def __repr__(self):\n",
        "        return f\"{self.__class__.__name__}()\"\n",
        "\n",
        "book = Book()\n",
        "print(book)"
      ],
      "execution_count": null,
      "outputs": []
    },
    {
      "cell_type": "markdown",
      "metadata": {
        "id": "7JIlLHU53Uc7"
      },
      "source": [
        "#### Пользовательские атрибуты класса"
      ]
    },
    {
      "cell_type": "markdown",
      "metadata": {
        "id": "Gctkmv4V3Z5W"
      },
      "source": [
        "Атрибуты класса принято определять в начале класса.\n",
        "\n",
        "```python\n",
        "class SomeClass:\n",
        "    class_attr = ...  # атрибут класса\n",
        "\n",
        "    def __init__(self):\n",
        "        self.instance_attr = ...  # атрибут экземпляра\n",
        "```"
      ]
    },
    {
      "cell_type": "markdown",
      "metadata": {
        "id": "h9v-w_dP3yPW"
      },
      "source": [
        "Доступ к атрибутам класса осуществляется тремя способами:\n",
        "- сам класс\n",
        "    ```python\n",
        "    class SomeClass:\n",
        "        class_attr = ...  # атрибут класса\n",
        "\n",
        "    print(SomeClass.class_attr)  # через сам класс\n",
        "    ```\n",
        "\n",
        "- метод экземпляра\n",
        "\n",
        "    ```python\n",
        "    class SomeClass:\n",
        "        class_attr = ...  # атрибут класса\n",
        "\n",
        "        def some_method(self):\n",
        "            print(self.class_attr)  # обращаемся к атрибуту класса через экземпляр\n",
        "    ```\n",
        "\n",
        "- переменную `cls` (см. методы класса)"
      ]
    },
    {
      "cell_type": "markdown",
      "metadata": {
        "id": "UfB0zo5x2Sp-"
      },
      "source": [
        "#### Доступ к атрибутам класса через метод экземпляра"
      ]
    },
    {
      "cell_type": "markdown",
      "metadata": {
        "id": "2I9ys6XpQdoS"
      },
      "source": [
        "Вспомним области видимости..."
      ]
    },
    {
      "cell_type": "code",
      "metadata": {
        "id": "VbJ7cKy1MCcb"
      },
      "source": [
        "MATERIAL = \"paper\"\n",
        "\n",
        "def print_material():\n",
        "    print(MATERIAL)\n",
        "\n",
        "print_material()  # что будет выведено?"
      ],
      "execution_count": null,
      "outputs": []
    },
    {
      "cell_type": "code",
      "metadata": {
        "id": "d9VLq-FZ15j0"
      },
      "source": [
        "class Book:\n",
        "    material = \"paper\"  # атрибут класса\n",
        "\n",
        "    def __str__(self):\n",
        "        return f\"Книга из материала - {self.material}\"\n",
        "\n",
        "book = Book()\n",
        "print(book)  # Книга из материала - paper\n",
        "\n",
        "print(book.material)  # paper"
      ],
      "execution_count": null,
      "outputs": []
    },
    {
      "cell_type": "markdown",
      "metadata": {
        "id": "40wTe2_NJMJI"
      },
      "source": [
        "В данном случае, работают области видимости атрибутов.  \n",
        "Сначала интерпретатор пытается найти атрибут в экземпляре, затем в классе.\n",
        "\n",
        "Поэтому вызывая `self.material` ожидаем обращение к атрибуту экземпляра,  \n",
        "но мы не объявляли никаких атрибутов экземпляра, поэтому ищем в атрибутах  \n",
        "класса и там его находим."
      ]
    },
    {
      "cell_type": "markdown",
      "metadata": {
        "id": "CZBfpQbHKlA9"
      },
      "source": [
        "#### Изменение атрибута класса через метод экземпляра"
      ]
    },
    {
      "cell_type": "markdown",
      "metadata": {
        "id": "9EoOB6HAQYVz"
      },
      "source": [
        "Ещё раз вспомним области видимости...\n",
        "```python\n",
        "count = 0\n",
        "\n",
        "def counter():\n",
        "    count = count + 1\n",
        "    \n",
        "    return count\n",
        "\n",
        "print(counter())  # что будет выведено?\n",
        "```"
      ]
    },
    {
      "cell_type": "markdown",
      "metadata": {
        "id": "nOhlBXRxKmfH"
      },
      "source": [
        "Сделаем счетчик, который будет хранить количество инициализированных стаканов.  \n",
        "И при каждой инициализации объекта будем увеличивать этот счётчик."
      ]
    },
    {
      "cell_type": "code",
      "metadata": {
        "id": "-weMrh2BLFc5"
      },
      "source": [
        "class Book:\n",
        "    book_count = 0  # количество напечатанных книг\n",
        "\n",
        "    def __init__(self):\n",
        "        print(self.__dict__)\n",
        "        self.increment_book_count()\n",
        "        print(self.__dict__)\n",
        "\n",
        "    def increment_book_count(self):\n",
        "        \"\"\" Метод, который увеличивает количество напечатанных книг. \"\"\"\n",
        "        self.book_count = self.book_count + 1\n",
        "\n",
        "\n",
        "# инициализируем стакан\n",
        "book_1 = Book()\n",
        "book_2 = Book()"
      ],
      "execution_count": null,
      "outputs": []
    },
    {
      "cell_type": "markdown",
      "metadata": {
        "id": "NVT36u6POoLB"
      },
      "source": [
        "Мы использовали **атрибут класса** `count`, чтобы инициализировать  \n",
        "**атрибут экземпляра класса** `count`.  \n",
        "Но изменения атрибута класса не произошло.  \n",
        "Для этого необходимо использовать методы класса."
      ]
    },
    {
      "cell_type": "markdown",
      "metadata": {
        "id": "vFmA9JHOANx3"
      },
      "source": [
        "### Методы класса"
      ]
    },
    {
      "cell_type": "markdown",
      "metadata": {
        "id": "2j7vFutDAmPe"
      },
      "source": [
        "Для определения метода класса используется\n",
        "декоратор **`@classmethod`**.\n",
        "\n",
        "В методе класса первый аргумент `cls` и является ссылкой на данный класс.   \n",
        "\n",
        "`cls` - это просто соглашение об именовании переменных в Python.   \n",
        "Использование `cls` позволяет разработчику определить, что данный метод  \n",
        "является методом класса.\n",
        "\n",
        "Поэтому вместо методов экземпляра класса\n",
        "```python\n",
        "class Book:\n",
        "    book_count = 0\n",
        "    \n",
        "    def increment_book_count(self):\n",
        "        \"\"\" Метод, который увеличивает количество напечатанных книг. \"\"\"\n",
        "        cls = self.__class__  # получаем ссылку на класс\n",
        "        cls.book_count += 1  # изменяем атрибут класса\n",
        "```\n",
        "\n",
        "Следует использовать методы класса\n",
        "\n",
        "```python\n",
        "class Book:\n",
        "    book_count = 0\n",
        "    \n",
        "    @classmethod\n",
        "    def increment_book_count(cls):\n",
        "        \"\"\" Метод, который увеличивает количество напечатанных книг. \"\"\"\n",
        "        cls.book_count += 1\n",
        "```"
      ]
    },
    {
      "cell_type": "code",
      "metadata": {
        "id": "ZMVCdw-qN5u3"
      },
      "source": [
        "class Book:\n",
        "    book_count = 0  # количество напечатанных книг\n",
        "\n",
        "    def __init__(self):\n",
        "        self.increment_book_count()  # экземпляр умеет вызывать метод класса\n",
        "\n",
        "    @classmethod\n",
        "    def increment_book_count(cls):\n",
        "        \"\"\" Метод, который увеличивает количество напечатанных книг. \"\"\"\n",
        "        cls.book_count += 1  # изменяем атрибут класса\n",
        "\n",
        "\n",
        "book_1 = Book()\n",
        "print(book_1.book_count)  # обращаемся к атрибуту класса через экземпляр\n",
        "\n",
        "book_2 = Book()\n",
        "print(Book.book_count)  # обращаемся к атрибуту класса через класс"
      ],
      "execution_count": null,
      "outputs": []
    },
    {
      "cell_type": "markdown",
      "metadata": {
        "id": "csTKF8XuR1dW"
      },
      "source": [
        "### Выводы"
      ]
    },
    {
      "cell_type": "markdown",
      "metadata": {
        "id": "k1fPgvq1R3ib"
      },
      "source": [
        "1. Атрибут класса - это общая переменная для всех экземпляров данного класса.\n",
        "2. Методы класса привязаны к самому классу, а не его экземпляру.  \n",
        "Они могут менять состояние класса, что отразится на всех объектах этого класса.\n",
        "3. Переменная `cls` является ссылкой на экземпляр данного класса.  \n",
        "`cls` - это просто соглашение об именовании переменных в Python\n",
        "4. Запись `self.__class__` используется для получения ссылки на класс.  \n",
        "Она равнозначна записи `type(self)`\n"
      ]
    },
    {
      "cell_type": "markdown",
      "metadata": {
        "id": "hw0L403vHoz_"
      },
      "source": [
        "## Статические методы"
      ]
    },
    {
      "cell_type": "markdown",
      "metadata": {
        "id": "gNk0lTUmIxCL"
      },
      "source": [
        "Статический метод класса определяется  \n",
        "с помощью декоратора **`@staticmethod`**.\n",
        "\n",
        "Статические методы **вообще не влияют**  \n",
        "на атрибуты класса и атрибуты экземпляра класса.  \n",
        "Статические методы предназначены для выполнения операций,  \n",
        "которые не воздействуют на класс или экземпляр класса.\n",
        "\n",
        "Статические методы в основном используются как вспомогательные функции  \n",
        "и работают с аргументами, которые им передаются,  \n",
        "а не атрибутами экземпляров и класса."
      ]
    },
    {
      "cell_type": "code",
      "source": [
        "class Book:\n",
        "    def __init__(self, name: str):\n",
        "        self.name = name\n",
        "\n",
        "# TODO Написать функцию is_books_equal, которая будет сравнивать две книги"
      ],
      "metadata": {
        "id": "rhk60-lkjMLo"
      },
      "execution_count": null,
      "outputs": []
    },
    {
      "cell_type": "code",
      "source": [
        "class Book:\n",
        "    def __init__(self, name: str):\n",
        "        self.name = name\n",
        "\n",
        "class Library:\n",
        "    def is_books_equal(self, book_1: Book, book_2: Book):\n",
        "        \"\"\"Две книги равны, если у них одинаковые названия\"\"\"\n",
        "        return book_1.name == book_2.name\n",
        "\n",
        "first_book = Book(\"Букварь\")\n",
        "second_book = Book(\"Букварь\")\n",
        "print(Library().is_books_equal(first_book, second_book))"
      ],
      "metadata": {
        "id": "dPHGlOVjapTu"
      },
      "execution_count": null,
      "outputs": []
    },
    {
      "cell_type": "code",
      "source": [
        "class Book:\n",
        "    def __init__(self, name: str):\n",
        "        self.name = name\n",
        "\n",
        "class Library:\n",
        "    @staticmethod\n",
        "    def is_books_equal(book_1: Book, book_2: Book):  # можем убрать аргумент self\n",
        "        \"\"\"Две книги равны, если у них одинаковые названия\"\"\"\n",
        "        return book_1.name == book_2.name\n",
        "\n",
        "first_book = Book(\"Букварь\")\n",
        "second_book = Book(\"Букварь\")\n",
        "print(Library().is_books_equal(first_book, second_book))  # работает как от экземпляра\n",
        "print(Library.is_books_equal(first_book, second_book))  # работает от класса"
      ],
      "metadata": {
        "id": "PmzBa4kUbk4s"
      },
      "execution_count": null,
      "outputs": []
    },
    {
      "cell_type": "markdown",
      "metadata": {
        "id": "2SfQIQZrRkYA"
      },
      "source": [
        "## Выводы"
      ]
    },
    {
      "cell_type": "markdown",
      "metadata": {
        "id": "yrUxmKZeQkH3"
      },
      "source": [
        "***Принцип \"бункера\"***  \n",
        "> \"Из бункера видно всё, внутрь бункера заглянуть нельзя.\"\n",
        "\n",
        "\n",
        "<img src=\"https://drive.google.com/uc?id=1rRU_8ddj6g5MYFUneD-CAnFA7-0AAvVh\"/>"
      ]
    },
    {
      "cell_type": "markdown",
      "metadata": {
        "id": "-slzPBcsTNXb"
      },
      "source": [
        "Язык Python предлагает три вида методов: экземпляра класса, класса, статические.\n",
        "\n",
        "1. Методы **экземпляра класса** получают доступ к объекту класса через аргумент `self`.  \n",
        "\n",
        "2. **Методы класса** не могут получить доступ к определённому  \n",
        "объекту класса, но имеют доступ к самому классу через `cls`.  \n",
        "Для определения метода класса метод необходимо задекоривать  \n",
        "декоратором **`@classmethod`**.\n",
        "\n",
        "3. **Статические методы** работают как обычные функции, но принадлежат области  \n",
        "имён класса. Они не имеют доступа ни к самому классу, ни к его экземплярам.  \n",
        "Для определения статического метода его необходимо задекоривать  \n",
        "декоратором **`@staticmethod`**.\n"
      ]
    },
    {
      "cell_type": "markdown",
      "source": [
        "Если не знаете какой метод вам нужен:  \n",
        "метод экземпляра класса, метод самого класса или статический метод -  \n",
        "используйте **методы экземпляра класса**.  \n",
        "\n",
        "От методов экземпляра класса всегда проще перейти к методам класса или статическим методам.  \n",
        "А вот наоборот не всегда всё проходит гладко :(\n",
        "\n",
        "Тоже самое касается атрибутов."
      ],
      "metadata": {
        "id": "t2stGCy62jmg"
      }
    },
    {
      "cell_type": "markdown",
      "source": [
        "## Pydantic модели"
      ],
      "metadata": {
        "id": "qqL_J-HEcWrm"
      }
    },
    {
      "cell_type": "markdown",
      "source": [
        "### Валидация по аннотации типов"
      ],
      "metadata": {
        "id": "u-y8dM0wciQO"
      }
    },
    {
      "cell_type": "markdown",
      "source": [
        "Рассмотрим класс книгу с атрибутом экземпляра класса\n",
        "```python\n",
        "class Book:\n",
        "    def __init__(self, pages: int):\n",
        "        self.pages = pages\n",
        "\n",
        "\n",
        "book = Book(pages=500)\n",
        "```"
      ],
      "metadata": {
        "id": "poLJab6JJaWf"
      }
    },
    {
      "cell_type": "code",
      "source": [
        "class Book:\n",
        "    def __init__(self, pages: int):\n",
        "        if not isinstance(pages, int):\n",
        "            raise TypeError(\"Количество страниц должно быть типа int\")\n",
        "        self.pages = pages\n",
        "\n",
        "\n",
        "book = Book(pages=500)"
      ],
      "metadata": {
        "id": "opFx6svmDtMT"
      },
      "execution_count": null,
      "outputs": []
    },
    {
      "cell_type": "markdown",
      "source": [
        "Для того, чтобы каждый раз не писать валидацию данных,  \n",
        "есть библиотека `pydantic`, которая работает на основе  \n",
        "атрибутов класса и аннотациии типов (... ну и ещё куча магии,  \n",
        "которая остается от нас \"под капотом\")"
      ],
      "metadata": {
        "id": "CgaeGekb40m2"
      }
    },
    {
      "cell_type": "code",
      "source": [
        "# https://pydantic-docs.helpmanual.io/install/\n",
        "!pip install pydantic"
      ],
      "metadata": {
        "id": "qPi8r2QWvj-D",
        "colab": {
          "base_uri": "https://localhost:8080/"
        },
        "outputId": "47e45841-3e06-4b20-9f6b-f739dbe8dcdb"
      },
      "execution_count": null,
      "outputs": [
        {
          "output_type": "stream",
          "name": "stdout",
          "text": [
            "Looking in indexes: https://pypi.org/simple, https://us-python.pkg.dev/colab-wheels/public/simple/\n",
            "Requirement already satisfied: pydantic in /usr/local/lib/python3.7/dist-packages (1.10.2)\n",
            "Requirement already satisfied: typing-extensions>=4.1.0 in /usr/local/lib/python3.7/dist-packages (from pydantic) (4.1.1)\n"
          ]
        }
      ]
    },
    {
      "cell_type": "markdown",
      "source": [
        "Библиотека pydantic основывается на написании класса,  \n",
        "в котором на уровне атрибутов класса описываются характеристики,  \n",
        "которыми будет обладать та или иная сущность.  \n",
        "Добавляя аннотацию типов, модуль pydantic будет проверять входные данные.  \n",
        "[Документация](https://pydantic-docs.helpmanual.io/usage/models/#basic-model-usage)"
      ],
      "metadata": {
        "id": "xFnUQERYVCzR"
      }
    },
    {
      "cell_type": "code",
      "source": [
        "from pydantic import BaseModel\n",
        "\n",
        "\n",
        "class Book(BaseModel):  # Book унаследован от BaseModel\n",
        "    pages: int  # говорит о том, что атрибут pages для всех эекземпляров должен быть типа int\n",
        "\n",
        "\n",
        "book = Book(pages=500)\n",
        "print(book)\n",
        "print(repr(book))"
      ],
      "metadata": {
        "id": "93Hg3iaGDxpT",
        "colab": {
          "base_uri": "https://localhost:8080/"
        },
        "outputId": "cb54f9fd-455f-43dc-d881-38a29973bb06"
      },
      "execution_count": null,
      "outputs": [
        {
          "output_type": "stream",
          "name": "stdout",
          "text": [
            "pages=500\n",
            "Book(pages=500)\n"
          ]
        }
      ]
    },
    {
      "cell_type": "markdown",
      "source": [
        "### Валидация значений"
      ],
      "metadata": {
        "id": "45dOYIhbcmeO"
      }
    },
    {
      "cell_type": "code",
      "source": [
        "class Book:\n",
        "    def __init__(self, pages: int):\n",
        "        if not isinstance(pages, int):\n",
        "            raise TypeError(\"Количество страниц должно быть типа int\")\n",
        "        if pages <= 0:\n",
        "            raise ValueError(\"Количество страниц должно быть положительным числом\")\n",
        "        self.pages = pages\n",
        "\n",
        "\n",
        "book = Book(pages=500)"
      ],
      "metadata": {
        "id": "XoxrgfAYKTkt"
      },
      "execution_count": null,
      "outputs": []
    },
    {
      "cell_type": "markdown",
      "source": [
        "Так же библиотека pydantic умеет не только проверять тип,  \n",
        "но и значения передаваемых ей данных.  \n",
        "[Документация](https://pydantic-docs.helpmanual.io/usage/types/#constrained-types)"
      ],
      "metadata": {
        "id": "6Kc7PGwpU4Qr"
      }
    },
    {
      "cell_type": "code",
      "source": [
        "from pydantic import BaseModel, conint\n",
        "\n",
        "\n",
        "class Book(BaseModel):\n",
        "    pages: int = conint(gt=0)\n",
        "\n",
        "\n",
        "book = Book(pages=500)"
      ],
      "metadata": {
        "id": "rdOZ67SuDf-c"
      },
      "execution_count": null,
      "outputs": []
    },
    {
      "cell_type": "markdown",
      "source": [
        "### Использование pydantic моделей в качестве аннотации типов для валидации"
      ],
      "metadata": {
        "id": "djfTvRENcr2P"
      }
    },
    {
      "cell_type": "markdown",
      "source": [
        "Более сложные типы данных могут быть определены  \n",
        "с использованием самих моделей в качестве аннотации типов.  \n",
        "[Документация](https://pydantic-docs.helpmanual.io/usage/models/#recursive-models)\n"
      ],
      "metadata": {
        "id": "0t_AuNu6WAsH"
      }
    },
    {
      "cell_type": "code",
      "source": [
        "from typing import List  # версия python <= 3.9\n",
        "\n",
        "from pydantic import BaseModel\n",
        "\n",
        "\n",
        "class Book(BaseModel):\n",
        "    author: str\n",
        "    pages: int\n",
        "\n",
        "\n",
        "class Library(BaseModel):\n",
        "    books: List[Book] = []\n",
        "\n",
        "\n",
        "books = [\n",
        "    {\n",
        "        \"author\": \"Пушкин А. С.\",\n",
        "        \"pages\": 500,\n",
        "    },\n",
        "    {\n",
        "        \"author\": \"Лермонтов М. Ю.\",\n",
        "        \"pages\": 250,\n",
        "    },\n",
        "]\n",
        "list_books = [Book(author=book[\"author\"], pages=book[\"pages\"]) for book in books]\n",
        "library = Library(books=list_books)\n",
        "print(library)"
      ],
      "metadata": {
        "id": "pZa0HudtwAtg"
      },
      "execution_count": null,
      "outputs": []
    },
    {
      "cell_type": "code",
      "source": [
        "src_library = {\n",
        "    'books': [\n",
        "        {'author': 'Пушкин А. С.', 'pages': 500},\n",
        "        {'author': 'Лермонтов М. Ю.', 'pages': 250}\n",
        "    ]\n",
        "}\n",
        "Library.parse_obj(src_library)  # использование метода класса"
      ],
      "metadata": {
        "id": "o6P9Gg0aN828"
      },
      "execution_count": null,
      "outputs": []
    },
    {
      "cell_type": "markdown",
      "source": [
        "### Обязательные и необязательные поля\n",
        "По умолчанию, все поля в моделях являются обязательными.  \n",
        "Но с помощью аннотации типов `Optional` их можно сделать не обязательными.  \n",
        "[Документация](https://pydantic-docs.helpmanual.io/usage/models/#required-fields)."
      ],
      "metadata": {
        "id": "P-F-zNo_VydI"
      }
    },
    {
      "cell_type": "code",
      "source": [
        "from typing import Optional\n",
        "\n",
        "from pydantic import BaseModel\n",
        "\n",
        "\n",
        "class Book(BaseModel):\n",
        "    \"\"\" Класс, описывающий объект Книга, который будет использоваться для книг, которые хранятся в библиотеке. \"\"\"\n",
        "    author: str\n",
        "    desciption: Optional[str]  # Optional делает поле не обязательным при передаче\n",
        "\n",
        "print(Book(author=\"Пушкин\"))\n",
        "print(Book(author=\"Пушкин\", desciption=\"Описание\"))"
      ],
      "metadata": {
        "outputId": "dc6d09ac-b1c6-4ddb-e3da-74f9e269fc69",
        "colab": {
          "base_uri": "https://localhost:8080/"
        },
        "id": "JcqfJ3Mu2HYP"
      },
      "execution_count": null,
      "outputs": [
        {
          "output_type": "stream",
          "name": "stdout",
          "text": [
            "author='Пушкин' desciption=None\n",
            "author='Пушкин' desciption='Описание'\n"
          ]
        }
      ]
    },
    {
      "cell_type": "code",
      "source": [
        "class Book(BaseModel):\n",
        "    \"\"\" Класс, описывающий объект Книга, который будет использоваться для книг, которые хранятся в библиотеке. \"\"\"\n",
        "    author: str\n",
        "    desciption: Optional[str] = ... # ... делает поле не обязательное поле обязательным :)\n",
        "\n",
        "print(Book(author=\"Пушкин\", desciption=None))\n",
        "print(Book(author=\"Пушкин\", desciption=\"Описание\"))"
      ],
      "metadata": {
        "colab": {
          "base_uri": "https://localhost:8080/"
        },
        "id": "Ih_Up2GL8Mxe",
        "outputId": "25127f67-3655-482b-cf3d-0bb8082d6230"
      },
      "execution_count": null,
      "outputs": [
        {
          "output_type": "stream",
          "name": "stdout",
          "text": [
            "author='Пушкин' desciption=None\n",
            "author='Пушкин' desciption='Описание'\n"
          ]
        }
      ]
    },
    {
      "cell_type": "markdown",
      "source": [
        "### Методы dict и copy. Фильтрация полей"
      ],
      "metadata": {
        "id": "Pf6FSpfkdpIN"
      }
    },
    {
      "cell_type": "markdown",
      "source": [
        "У моделей есть метод `dict`, это способ преобразования модели в словарь.  \n",
        "Подмодели также будут рекурсивно преобразованы в словари.\n"
      ],
      "metadata": {
        "id": "GKHtmMx_8jqM"
      }
    },
    {
      "cell_type": "code",
      "source": [
        "from typing import List  # версия python <= 3.9\n",
        "\n",
        "from pydantic import BaseModel\n",
        "\n",
        "\n",
        "class Book(BaseModel):\n",
        "    author: str\n",
        "    pages: int\n",
        "\n",
        "\n",
        "class Library(BaseModel):\n",
        "    books: List[Book] = []\n",
        "\n",
        "src_library = {\n",
        "    'books': [\n",
        "        {'author': 'Пушкин А. С.', 'pages': 500},\n",
        "        {'author': 'Лермонтов М. Ю.', 'pages': 250}\n",
        "    ]\n",
        "}\n",
        "library = Library.parse_obj(src_library)  # использование метода класса\n",
        "print(library.dict())  # получение python словаря из модели"
      ],
      "metadata": {
        "colab": {
          "base_uri": "https://localhost:8080/"
        },
        "id": "woottA7G9eJR",
        "outputId": "9d1b1aaf-495d-4d7a-96ff-d784e5dfab30"
      },
      "execution_count": null,
      "outputs": [
        {
          "output_type": "stream",
          "name": "stdout",
          "text": [
            "{'books': [{'author': 'Пушкин А. С.', 'pages': 500}, {'author': 'Лермонтов М. Ю.', 'pages': 250}]}\n"
          ]
        }
      ]
    },
    {
      "cell_type": "markdown",
      "source": [
        "У метода [dict()](https://pydantic-docs.helpmanual.io/usage/exporting_models/#modeldict), есть аргумент `exclude_unset`,  \n",
        "который позволяет исключать из возвращаемого словаря поля,  \n",
        "которые не были явно заданы при создании модели.\n",
        "\n",
        "Метод [copy()](https://pydantic-docs.helpmanual.io/usage/exporting_models/#modelcopy) позволяет дублировать модели.  \n",
        "А аргумент `update` может принимать словарь значений  \n",
        "для изменения при создании скопированной модели.\n"
      ],
      "metadata": {
        "id": "DKzXsTw-9T9U"
      }
    },
    {
      "cell_type": "code",
      "source": [
        "from typing import Optional\n",
        "\n",
        "class Book(BaseModel):\n",
        "    \"\"\" Класс, описывающий объект Книга, который будет использоваться для книг, которые хранятся в библиотеке. \"\"\"\n",
        "    author: str\n",
        "\n",
        "\n",
        "class BookUpdate(BaseModel):\n",
        "    \"\"\" Класс, описывающий объект Книга, который будет использоваться для обновления существующих книг в библиотеке. \"\"\"\n",
        "    author: Optional[str]\n",
        "\n",
        "\n",
        "update_fields = {}\n",
        "input_author = input(\"Введите нового автора: \")\n",
        "if input_author:\n",
        "    update_fields[\"author\"] = input_author\n",
        "\n",
        "book_update = BookUpdate(**update_fields)\n",
        "book_update.dict(exclude_none=True)"
      ],
      "metadata": {
        "id": "1VETDTZURxet",
        "colab": {
          "base_uri": "https://localhost:8080/"
        },
        "outputId": "686f81a3-5398-4c02-ac4e-73e83a41963d"
      },
      "execution_count": null,
      "outputs": [
        {
          "output_type": "stream",
          "name": "stdout",
          "text": [
            "author='Пушкин Александр Сергеевич'\n"
          ]
        }
      ]
    },
    {
      "cell_type": "code",
      "source": [
        "book = Book(author='Пушкин А. С.')  # получение объекта из БД\n",
        "book_update = BookUpdate(author='Пушкин Александр Сергеевич')  # формируется объект с полями для обновления\n",
        "\n",
        "updated_book = book.copy(update=book_update.dict(exclude_unset=True))  # обновление объекта\n",
        "print(updated_book)"
      ],
      "metadata": {
        "id": "WJ3AaMGA_cNd"
      },
      "execution_count": null,
      "outputs": []
    }
  ]
}